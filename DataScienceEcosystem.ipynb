{
  "nbformat": 4,
  "nbformat_minor": 0,
  "metadata": {
    "colab": {
      "provenance": [],
      "toc_visible": true,
      "authorship_tag": "ABX9TyMqmWG4gu3wuVcucTPe8LZp",
      "include_colab_link": true
    },
    "kernelspec": {
      "name": "python3",
      "display_name": "Python 3"
    },
    "language_info": {
      "name": "python"
    }
  },
  "cells": [
    {
      "cell_type": "markdown",
      "metadata": {
        "id": "view-in-github",
        "colab_type": "text"
      },
      "source": [
        "<a href=\"https://colab.research.google.com/github/Nwasir/data_science_project/blob/main/DataScienceEcosystem.ipynb\" target=\"_parent\"><img src=\"https://colab.research.google.com/assets/colab-badge.svg\" alt=\"Open In Colab\"/></a>"
      ]
    },
    {
      "cell_type": "markdown",
      "source": [
        "# Data Science Tools and Ecosystem"
      ],
      "metadata": {
        "id": "1gzzSZUzC1CK"
      }
    },
    {
      "cell_type": "markdown",
      "source": [
        "In this notebook, Data Science Tools and Ecosystem are summarized."
      ],
      "metadata": {
        "id": "r-PprizaGdfy"
      }
    },
    {
      "cell_type": "markdown",
      "source": [
        "**Objectives:**\n",
        "- List popular languages for Data Science\n",
        "- List commonly used libraries by Data Scientists\n",
        "- Data science tools\n",
        "- Evaluating arithmetic expressions in Python"
      ],
      "metadata": {
        "id": "iuPamOHjRtnz"
      }
    },
    {
      "cell_type": "markdown",
      "source": [
        "Some of the popular languages that Data Scientists use are:\n",
        "\n",
        "\n",
        "1.   Python\n",
        "2.   R\n",
        "3.   SQL\n",
        "4.   Julia\n",
        "\n"
      ],
      "metadata": {
        "id": "VFMrWQZQJFWj"
      }
    },
    {
      "cell_type": "markdown",
      "source": [
        "Some of the commonly used libraries used by Data Scientists include:\n",
        "\n",
        "\n",
        "1.   Pandas\n",
        "2.   Tensorflow\n",
        "3.   Matplotlib\n",
        "4.   Numpy\n",
        "\n"
      ],
      "metadata": {
        "id": "mEXHmsQ8KVU8"
      }
    },
    {
      "cell_type": "markdown",
      "source": [
        "| | Data Science Tools |\n",
        "| - | ----------------- |\n",
        "| 1 | Google Colab |\n",
        "| 2 | Jupyter Notebook |\n",
        "| 3 | Rstudio |"
      ],
      "metadata": {
        "id": "Q4CnF3ksMU-b"
      }
    },
    {
      "cell_type": "markdown",
      "source": [
        "### Below are a few examples of evaluating arithmetic expressions in Python"
      ],
      "metadata": {
        "id": "GZO5_TSjOpgM"
      }
    },
    {
      "cell_type": "code",
      "source": [
        "#This a simple arithmetic expression to mutiply then add integers\n",
        "(3 * 4)  + 5"
      ],
      "metadata": {
        "colab": {
          "base_uri": "https://localhost:8080/"
        },
        "id": "bdMX1dKkPm6T",
        "outputId": "508c26d8-03d2-41e7-bc81-abd1ffc5b219"
      },
      "execution_count": null,
      "outputs": [
        {
          "output_type": "execute_result",
          "data": {
            "text/plain": [
              "17"
            ]
          },
          "metadata": {},
          "execution_count": 2
        }
      ]
    },
    {
      "cell_type": "code",
      "source": [
        "#This will convert 200 minutes to hours by diving by 60\n",
        "an_hour = 60 #minutes\n",
        "200 / an_hour"
      ],
      "metadata": {
        "colab": {
          "base_uri": "https://localhost:8080/"
        },
        "id": "AwOq6BJAQKLj",
        "outputId": "95fc3f2f-b50f-4357-c15a-6d9e9dfdd316"
      },
      "execution_count": null,
      "outputs": [
        {
          "output_type": "execute_result",
          "data": {
            "text/plain": [
              "3.3333333333333335"
            ]
          },
          "metadata": {},
          "execution_count": 3
        }
      ]
    },
    {
      "cell_type": "markdown",
      "source": [
        "## Author\n",
        "  Nnanna Arua Uko"
      ],
      "metadata": {
        "id": "CKRjikpgSs8V"
      }
    }
  ]
}